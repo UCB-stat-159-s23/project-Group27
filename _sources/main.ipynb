{
 "cells": [
  {
   "cell_type": "markdown",
   "id": "0989923a-a1f8-4e13-869f-d2b925fb174f",
   "metadata": {
    "user_expressions": []
   },
   "source": [
    "# TITLE"
   ]
  },
  {
   "cell_type": "code",
   "execution_count": 3,
   "id": "7e9acd15-15dc-4fee-ba96-2f67440aabc1",
   "metadata": {},
   "outputs": [],
   "source": [
    "# lalalala dummy notebook"
   ]
  },
  {
   "cell_type": "markdown",
   "id": "62f5fa33-360e-4d22-b57c-ba6fc1a3bf13",
   "metadata": {
    "tags": [],
    "user_expressions": []
   },
   "source": [
    "## Author Contributions\n",
    "\n",
    "TODO"
   ]
  }
 ],
 "metadata": {
  "kernelspec": {
   "display_name": "Python 3 (ipykernel)",
   "language": "python",
   "name": "python3"
  },
  "language_info": {
   "codemirror_mode": {
    "name": "ipython",
    "version": 3
   },
   "file_extension": ".py",
   "mimetype": "text/x-python",
   "name": "python",
   "nbconvert_exporter": "python",
   "pygments_lexer": "ipython3",
   "version": "3.10.8"
  }
 },
 "nbformat": 4,
 "nbformat_minor": 5
}
